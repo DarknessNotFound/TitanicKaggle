{
 "cells": [
  {
   "attachments": {},
   "cell_type": "markdown",
   "metadata": {},
   "source": [
    "<h1 style=\"text-align: center\">Kaggle Titanic Dataset</h1>\n",
    "<h3 style=\"text-align: center\">Predicting passenger survival</h3>\n"
   ]
  },
  {
   "cell_type": "code",
   "execution_count": 11,
   "metadata": {},
   "outputs": [],
   "source": [
    "import numpy as np\n",
    "import matplotlib as plt\n",
    "import csv as csv\n",
    "\n",
    "ALPHA = 0.1\n",
    "ESPILON = 0.001\n",
    "TRAIN_DATA_FILE = \"train.csv\"\n",
    "TEST_DATA_FILE = \"test.csv\"\n",
    "DATA_OUTPUT_NAME = \"answers.csv\"\n",
    "\n",
    "UNKNOWN_AGE_INSERT = 30 # This is the assumption for the passenger if the age is unknown."
   ]
  },
  {
   "attachments": {},
   "cell_type": "markdown",
   "metadata": {},
   "source": [
    "## Fetching and Organizing Data\n",
    "\n",
    "#### Raw Passenger Data\n",
    "Passenger Data is returned as a list of strings, in the order of the following:\n",
    "*Passenger Id, Survived, Pclass, Name, Sex, Age, SibSp, Parch, Ticket, Fare, Cabin, Embarked*\n",
    "\n",
    "#### Parsed Passenger Data\n",
    "Passenger Data needs to be parsed and converted into numbers for the machine learning algorithms to take over. The following will be the parsing scheme. This will also be the order as well\n",
    "\n",
    "1. **Passenger Id**: This will stay the same, nor will be converted into an int.\n",
    "2. **Survived**: 0 for died, 1 for survived\n",
    "3. **Pclass**: 1 for upper class, 2 for middle class, 3 for lower class\n",
    "4. **Sex**: 0 for Male, 1 for Female\n",
    "5. **Age**: Float from the string, if it is an empty string then going to default to age of 30 (arbitrary).\n",
    "6. **SibSp**: Sibling/Spouse on board, staying the same.\n",
    "7. **Parch**: # of Parent/Children on board, staying the same.\n",
    "8. **Fare**: Convert to a float"
   ]
  },
  {
   "cell_type": "code",
   "execution_count": 12,
   "metadata": {},
   "outputs": [],
   "source": [
    "def FetchPassengerData(fileName: str) -> list:\n",
    "    \"\"\"Gets the information and then returns a list of the passengers in the format shown below (as strings)\n",
    "\n",
    "    Args:\n",
    "        fileName (str): The csv file to open\n",
    "\n",
    "    Returns:\n",
    "        list: PassengerId, Survived, Pclass, Name, Sex, Age, SibSp, Parch, Ticket, Fare, Cabin, Embarked \n",
    "    \"\"\"\n",
    "    result = []\n",
    "    with open(fileName, newline='') as csvfile:\n",
    "        reader = csv.reader(csvfile, delimiter=',')\n",
    "        for row in reader:\n",
    "            result.append(row)\n",
    "    return result\n",
    "\n",
    "def ParseSurvived(survived: str) -> int:\n",
    "    try:\n",
    "        return int(float(survived))\n",
    "    except Exception as ex:\n",
    "        print(str(ex))\n",
    "        return 0\n",
    "\n",
    "\n",
    "def ParseAge(age: str) -> int:\n",
    "    try:\n",
    "        return float(age)\n",
    "    except ValueError:\n",
    "        return UNKNOWN_AGE_INSERT \n",
    "\n",
    "def ParsePassengerData(passenger: list) -> list:\n",
    "    \"\"\"Takes passenger data and converts all the types to be usable for the machine learning. See the paragraph above for the information.\n",
    "     \n",
    "\n",
    "    Args:\n",
    "        passenger (list): PassengerId, Survived (optional), Pclass, Name, Sex, Age, SibSp, Parch, Ticket, Fare, Cabin, Embarked\n",
    "\n",
    "    Returns:\n",
    "        list: PassengerId, Survived, Pclass, Sex, Age, SibSp, Parch, Fare\n",
    "    \"\"\"\n",
    "\n",
    "    # Passenger surviving wasn't added. Add a '0' for survivied (mirroring test data)\n",
    "    if len(passenger) < 12:\n",
    "        passenger.insert(1, '0')\n",
    "    \n",
    "    if len(passenger) < 12:\n",
    "        print(\"List is less than 12 elements still.\")\n",
    "        print(f\"Passenger: {passenger}\")\n",
    "        raise Exception(ValueError)\n",
    "    \n",
    "    PassengerId = passenger[0]\n",
    "    Survived = ParseSurvived(passenger[1])\n",
    "    Pclass = int(passenger[2])\n",
    "    #  Name is irrelevant (passenger[3])\n",
    "    Sex = int(passenger[4] == 'female')\n",
    "    Age = ParseAge(passenger[5])\n",
    "    SibSp = int(passenger[6])\n",
    "    Parch = int(passenger[7])\n",
    "    # Ticket is irrelevant (passenger[8])\n",
    "    Fare = float(passenger[9])\n",
    "    # Cabin will be relevant -- going to eventually make up a scheme and numbering system based general cabin location.\n",
    "    # I doubt embarked will matter, might be worth adding later.\n",
    "\n",
    "    return [PassengerId, Survived, Pclass, Sex, Age, SibSp, Parch, Fare]\n"
   ]
  },
  {
   "attachments": {},
   "cell_type": "markdown",
   "metadata": {},
   "source": [
    "### Global Variables for Results (NOT CONST)"
   ]
  },
  {
   "cell_type": "code",
   "execution_count": 13,
   "metadata": {},
   "outputs": [],
   "source": [
    "W_HAT = [] # Vector to be multiplied acrossed.\n",
    "B = 0 # Correction number\n",
    "HIST_J = [] # History of the derivative (used to check alpha)\n",
    "COST = 0 # Cost of using current W_HAT and B\n",
    "ITERATION = 0 # Current Iteration Count"
   ]
  },
  {
   "attachments": {},
   "cell_type": "markdown",
   "metadata": {},
   "source": [
    "### Functions for Calculating One Iteration"
   ]
  },
  {
   "cell_type": "code",
   "execution_count": 14,
   "metadata": {},
   "outputs": [],
   "source": [
    "def Functions():\n",
    "    return 0"
   ]
  },
  {
   "attachments": {},
   "cell_type": "markdown",
   "metadata": {},
   "source": [
    "### Training Function (and running)"
   ]
  },
  {
   "cell_type": "code",
   "execution_count": 15,
   "metadata": {},
   "outputs": [],
   "source": [
    "def TrainData():\n",
    "    TrainRawData = FetchPassengerData(TRAIN_DATA_FILE)\n",
    "    TrainData = []\n",
    "\n",
    "    for passenger in TrainRawData[1:]:\n",
    "        TrainData.append(ParsePassengerData(passenger))\n",
    "    previous_dj = 1\n",
    "\n",
    "    while ITERATION < 100000 and previous_dj > ESPILON:\n",
    "        ITERATION += 1\n",
    "        "
   ]
  }
 ],
 "metadata": {
  "kernelspec": {
   "display_name": "Python 3",
   "language": "python",
   "name": "python3"
  },
  "language_info": {
   "codemirror_mode": {
    "name": "ipython",
    "version": 3
   },
   "file_extension": ".py",
   "mimetype": "text/x-python",
   "name": "python",
   "nbconvert_exporter": "python",
   "pygments_lexer": "ipython3",
   "version": "3.10.8"
  },
  "orig_nbformat": 4
 },
 "nbformat": 4,
 "nbformat_minor": 2
}
